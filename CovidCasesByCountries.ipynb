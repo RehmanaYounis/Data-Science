{
 "cells": [
  {
   "cell_type": "code",
   "execution_count": 5,
   "metadata": {},
   "outputs": [
    {
     "name": "stdout",
     "output_type": "stream",
     "text": [
      "Enter your country :pakistan\n",
      "https://www.worldometers.info/coronavirus/country/pakistan/\n",
      "============================================================\n",
      "                   COVID STATISTICS IN PAKISTAN\n",
      "Total Covid Cases                        376929\n",
      "Total Deaths                               7696\n",
      "Total Recovered                          330885\n",
      "============================================================\n"
     ]
    }
   ],
   "source": [
    "############Beautifulsoup\n",
    "import pandas as pd\n",
    "import matplotlib.pyplot as plt\n",
    "import requests\n",
    "from bs4 import BeautifulSoup\n",
    "country=[]\n",
    "\n",
    "#Retrieving all countries from the website\n",
    "url='https://www.worldometers.info/coronavirus/#countries'\n",
    "r = requests.get(url)\n",
    "html_doc = r.text\n",
    "# Create a BeautifulSoup object from the HTML: soup\n",
    "soup = BeautifulSoup(html_doc)\n",
    "cnt_str=soup.find_all('a', {'class':'mt_a'})\n",
    "country=[]\n",
    "#Create country list fetched from web site\n",
    "for i,j in enumerate(cnt_str):\n",
    "    temp = cnt_str[i].text\n",
    "    country.append(temp.lower())\n",
    "country = sorted(set(country))\n",
    "#print (country)\n",
    "\n",
    "sel_country = input(\"Enter your country :\")\n",
    "sel_country = sel_country.lower()\n",
    "sel_country=sel_country.strip()\n",
    "\n",
    "while sel_country not in country:\n",
    "    print ('The country name does not exist. Please enter again')\n",
    "    sel_country = input(\"Enter your country :\")\n",
    "    sel_country = sel_country.lower()\n",
    "    sel_country=sel_country.strip()\n",
    "\n",
    "headng='Covid Statistics in '+ sel_country\n",
    "headng = headng.upper()\n",
    "sel_country=sel_country.replace(' ', '-')\n",
    "s1 = 'https://www.worldometers.info/coronavirus/country/'\n",
    "url = s1+sel_country+'/'\n",
    "print (url)\n",
    "r = requests.get(url)\n",
    "html = r.text\n",
    "soup = BeautifulSoup(html)\n",
    "#Extracting records for corona virus in specific country\n",
    "AllCases=soup.find_all('div', {'class':'maincounter-number'})\n",
    "\n",
    "case=[]\n",
    "for i,j in enumerate(AllCases):\n",
    "    temp = AllCases[i].text\n",
    "    temp=temp.strip()\n",
    "    temp=temp.replace(',','')\n",
    "    case.append(int(temp))\n",
    "\n",
    "\n",
    "TotCor= case[0]\n",
    "TotDeath= case[1]\n",
    "TotRecover= case[2]\n",
    "cindex= ['Total Covid Cases','Total Deaths', 'Total Recovered']\n",
    "\n",
    "\n",
    "df = pd.DataFrame(case, index =cindex, columns =[headng]) \n",
    "print('='*60)\n",
    "print(df)\n",
    "print('='*60)\n"
   ]
  },
  {
   "cell_type": "code",
   "execution_count": null,
   "metadata": {},
   "outputs": [],
   "source": []
  }
 ],
 "metadata": {
  "kernelspec": {
   "display_name": "Python 3",
   "language": "python",
   "name": "python3"
  },
  "language_info": {
   "codemirror_mode": {
    "name": "ipython",
    "version": 3
   },
   "file_extension": ".py",
   "mimetype": "text/x-python",
   "name": "python",
   "nbconvert_exporter": "python",
   "pygments_lexer": "ipython3",
   "version": "3.8.3"
  }
 },
 "nbformat": 4,
 "nbformat_minor": 4
}
